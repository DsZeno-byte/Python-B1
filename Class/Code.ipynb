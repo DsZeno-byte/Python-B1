{
 "cells": [
  {
   "cell_type": "code",
   "execution_count": 1,
   "id": "bef76eec-a228-4cee-a37c-f00467350950",
   "metadata": {},
   "outputs": [
    {
     "name": "stdout",
     "output_type": "stream",
     "text": [
      "Hello world\n"
     ]
    }
   ],
   "source": [
    "str5=\"Hello world\"\n",
    "print(str5)"
   ]
  },
  {
   "cell_type": "code",
   "execution_count": null,
   "id": "3cd4caa6-9400-42be-9356-993cc8b182d3",
   "metadata": {},
   "outputs": [],
   "source": [
    "str5.replace(\"Hello\",\"Hi\")\n",
    "print(str5)"
   ]
  },
  {
   "cell_type": "code",
   "execution_count": null,
   "id": "b3c9d5ad-c1fd-4f8d-9d7a-6cb2498b8c63",
   "metadata": {},
   "outputs": [],
   "source": [
    "id(str5)"
   ]
  },
  {
   "cell_type": "code",
   "execution_count": null,
   "id": "856881cd-88ae-4438-8ba8-40c8dff40d60",
   "metadata": {},
   "outputs": [],
   "source": [
    "print(str5)\n",
    "print(type(str5))\n",
    "print(id(str5))"
   ]
  },
  {
   "cell_type": "code",
   "execution_count": 3,
   "id": "2031743f-6f65-484b-95ef-bbdd38acfeea",
   "metadata": {},
   "outputs": [
    {
     "name": "stdout",
     "output_type": "stream",
     "text": [
      "11\n"
     ]
    }
   ],
   "source": [
    "print(len(str5))"
   ]
  },
  {
   "cell_type": "code",
   "execution_count": 5,
   "id": "e816aab7-1559-42a5-9d86-9d514cb8c6b2",
   "metadata": {},
   "outputs": [
    {
     "data": {
      "text/plain": [
       "('0123456789', 10)"
      ]
     },
     "execution_count": 5,
     "metadata": {},
     "output_type": "execute_result"
    }
   ],
   "source": [
    "str6=\"0123456789\"\n",
    "str6,(len(str6))"
   ]
  }
 ],
 "metadata": {
  "kernelspec": {
   "display_name": "Python 3 (ipykernel)",
   "language": "python",
   "name": "python3"
  },
  "language_info": {
   "codemirror_mode": {
    "name": "ipython",
    "version": 3
   },
   "file_extension": ".py",
   "mimetype": "text/x-python",
   "name": "python",
   "nbconvert_exporter": "python",
   "pygments_lexer": "ipython3",
   "version": "3.12.4"
  }
 },
 "nbformat": 4,
 "nbformat_minor": 5
}
